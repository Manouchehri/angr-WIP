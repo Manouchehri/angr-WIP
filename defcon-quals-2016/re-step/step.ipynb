{
 "cells": [
  {
   "cell_type": "code",
   "execution_count": 1,
   "metadata": {
    "collapsed": false
   },
   "outputs": [],
   "source": [
    "import angr\n",
    "import simuvex\n",
    "import logging\n",
    "\n",
    "# DEFCON - BABY-RE\n",
    "# @author: P1kachu\n",
    "# @contact: p1kachu@lse.epita.fr"
   ]
  },
  {
   "cell_type": "code",
   "execution_count": 2,
   "metadata": {
    "collapsed": true
   },
   "outputs": [],
   "source": [
    "p = angr.Project('step')"
   ]
  },
  {
   "cell_type": "code",
   "execution_count": 3,
   "metadata": {
    "collapsed": true
   },
   "outputs": [],
   "source": [
    "win            = 0x400e0b  # good\n",
    "fail           = 0x400df2  # fail\n",
    "main           = 0x400fa6  # Address of main\n",
    "find           = (win,)\n",
    "avoid          = (fail,)"
   ]
  },
  {
   "cell_type": "code",
   "execution_count": 4,
   "metadata": {
    "collapsed": false
   },
   "outputs": [],
   "source": [
    "def patch_fgets(state):\n",
    "    size = state.regs.rsi.ast.args[0]\n",
    "    buff = state.regs.rdi.ast.args[0]\n",
    "    print(\"fgets {0} bytes at {1}\".format(size, hex(buff)))\n",
    "    for x in xrange(size):\n",
    "        state.mem[buff + x:] = state.se.BVS('pass', 8)"
   ]
  },
  {
   "cell_type": "code",
   "execution_count": 5,
   "metadata": {
    "collapsed": false
   },
   "outputs": [],
   "source": [
    "init = p.factory.blank_state(addr=main)\n",
    "\n",
    "# Patch fgets\n",
    "p.hook(0x400fee, func=patch_fgets, length=5)"
   ]
  },
  {
   "cell_type": "code",
   "execution_count": 6,
   "metadata": {
    "collapsed": false
   },
   "outputs": [
    {
     "name": "stdout",
     "output_type": "stream",
     "text": [
      "fgets 6 bytes at 0x7fffffffffeffe8L\n",
      "[<Path with 170 runs (at 0x400e0b)>]\n"
     ]
    }
   ],
   "source": [
    "pgp = p.factory.path_group(init, threads=8)\n",
    "\n",
    "# Now stuff becomes interesting\n",
    "ex = pgp.explore(find=find, avoid=avoid)\n",
    "\n",
    "print(ex.found)\n",
    "s = ex.found[0].state"
   ]
  },
  {
   "cell_type": "code",
   "execution_count": 36,
   "metadata": {
    "collapsed": false
   },
   "outputs": [
    {
     "name": "stdout",
     "output_type": "stream",
     "text": [
      "('pass_1_8', None, None, None, False, False, None)\n",
      "The flag is '<BV8 pass_1_8>'\n"
     ]
    }
   ],
   "source": [
    "tmp = s.memory.load(0x7fffffffffeffe8, 1)\n",
    "print(tmp.args)\n",
    "print(\"The flag is '{0}'\".format(tmp))"
   ]
  },
  {
   "cell_type": "code",
   "execution_count": null,
   "metadata": {
    "collapsed": true
   },
   "outputs": [],
   "source": []
  }
 ],
 "metadata": {
  "kernelspec": {
   "display_name": "Python 2",
   "language": "python",
   "name": "python2"
  },
  "language_info": {
   "codemirror_mode": {
    "name": "ipython",
    "version": 2
   },
   "file_extension": ".py",
   "mimetype": "text/x-python",
   "name": "python",
   "nbconvert_exporter": "python",
   "pygments_lexer": "ipython2",
   "version": "2.7.11"
  }
 },
 "nbformat": 4,
 "nbformat_minor": 0
}
