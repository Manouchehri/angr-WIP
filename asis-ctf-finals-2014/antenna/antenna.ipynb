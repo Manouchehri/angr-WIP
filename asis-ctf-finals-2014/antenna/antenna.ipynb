{
 "cells": [
  {
   "cell_type": "code",
   "execution_count": 1,
   "metadata": {
    "collapsed": false
   },
   "outputs": [],
   "source": [
    "import angr\n",
    "import simuvex\n",
    "import logging\n",
    "\n",
    "# ANTENNA - ASISCTF Finals 2014 - Antenna\n",
    "# WIP\n",
    "# @author: P1kachu \n"
   ]
  },
  {
   "cell_type": "code",
   "execution_count": 2,
   "metadata": {
    "collapsed": true
   },
   "outputs": [],
   "source": [
    "win            = 0x400fe3  # Prints \"good try\"\n",
    "fail           = 0x400f9b  # Prints \"sorry\"\n",
    "check_flag     = 0x400c65  # Beginning of function that checks the flag\n",
    "check_flag_end = 0x400cf1  # First instruction of last basic block of function that checks the flag\n",
    "call_check     = 0x400fd2  # Addgress of the 'call check_flag' instruction\n",
    "main           = 0x400e53  # Address of main\n",
    "ret            = 0x400fd7  # Last instruction of check_flag function\n",
    "expected       = 0x9ddf44  # Expected value\n",
    "PASS_LEN       = 152\n",
    "find           = (win,)\n",
    "avoid          = (fail,)\n"
   ]
  },
  {
   "cell_type": "code",
   "execution_count": 3,
   "metadata": {
    "collapsed": true
   },
   "outputs": [],
   "source": [
    "def hook_strlen(state):\n",
    "    state.regs.rax = PASS_LEN\n",
    "def hook_gmpz_strlen(state):\n",
    "    state.regs.rax = 200\n",
    "\n",
    "def hook_fgets_printf(state):\n",
    "    return\n",
    "#     Useless here finally\n",
    "#     state.mem[0x2000:] = state.se.BVS('pass', PASS_LEN * 8)\n",
    "\n",
    "#     for i in xrange(PASS_LEN):\n",
    "#         char = state.memory.load(0x2000 + i, 1)\n",
    "#         state.add_constraints(char >= ord('0'))\n",
    "#         state.add_constraints(char <= ord('9'))\n",
    "\n",
    "#     state.regs.rax = 0x2000\n",
    "\n",
    "def hook_gmpz(state):\n",
    "\n",
    "    LEN = 1008 # Completely arbitrary, don't know how to guess it\n",
    "               # 0x400dc1 comparison ?\n",
    "               # God I'm gonna need more RAM\n",
    "\n",
    "    state.mem[0x2000:] = state.se.BVS('pass', LEN * 8)\n",
    "\n",
    "    for i in xrange(PASS_LEN):\n",
    "        char = state.memory.load(0x2000 + i, 1)\n",
    "        state.add_constraints(char >= ord('0'))\n",
    "        state.add_constraints(char <= ord('1'))\n",
    "\n",
    "    state.regs.rax = 0x2000\n",
    "\n",
    "\n",
    "# def hook_retval(state):\n",
    "    # We want to constraint rax only at\n",
    "    # a specific address\n",
    "    # state.regs.rax = state.mem[state.regs.rbp - 0xc]\n",
    "    # state.add_constraints(state.regs.rax == expected)"
   ]
  },
  {
   "cell_type": "code",
   "execution_count": 4,
   "metadata": {
    "collapsed": true
   },
   "outputs": [],
   "source": [
    "# use_sim_procedure - Whether to replace resolved\n",
    "#                     dependencies for which\n",
    "#                     simprocedures are available\n",
    "#                     with said simprocedures.\n",
    "# p = angr.Project('antena', use_sim_procedures=True)\n",
    "# p = angr.Project('antena', load_options={\"auto_load_libs\": False})\n",
    "p = angr.Project('antena_bffb7c0bfe9d5eac2e1364ce7ceb995e')"
   ]
  },
  {
   "cell_type": "code",
   "execution_count": 5,
   "metadata": {
    "collapsed": true
   },
   "outputs": [],
   "source": [
    "# Lazy solves: LAZY_SOLVES should be disabled\n",
    "#              sometimes to avoid creating too\n",
    "#              many paths.\n",
    "\n",
    "#init = p.factory.blank_state(addr=main, remove_options={simuvex.s_options.LAZY_SOLVES})\n",
    "init = p.factory.blank_state(addr=main)\n",
    "\n",
    "# Patch fgets and printf\n",
    "p.hook(0x400f3f, func=hook_fgets_printf, length=(0x400f69 - 0x400f3f))\n",
    "\n",
    "# Patch gmpz\n",
    "# Only need to find which length to give the password\n",
    "p.hook(0x400faf, func=hook_gmpz, length=(0x400fd2 - 0x400faf))\n",
    "\n",
    "# Hook strlen\n",
    "p.hook(0x400f2c, func=hook_strlen, length=5)\n",
    "p.hook(0x400f73, func=hook_strlen, length=5)\n",
    "p.hook(0x400f8e, func=hook_strlen, length=5)\n",
    "p.hook(0x400c7f, func=hook_gmpz_strlen, length=5)\n",
    "\n",
    "#p.hook(check_flag_end, func=hook_retval, length=3)"
   ]
  },
  {
   "cell_type": "code",
   "execution_count": 9,
   "metadata": {
    "collapsed": false
   },
   "outputs": [
    {
     "name": "stdout",
     "output_type": "stream",
     "text": [
      "['ALL', 'DROP', '__class__', '__delattr__', '__dict__', '__dir__', '__doc__', '__format__', '__get__', '__getattr__', '__getattribute__', '__hash__', '__init__', '__module__', '__new__', '__reduce__', '__reduce_ex__', '__repr__', '__self__', '__self_class__', '__setattr__', '__sizeof__', '__slots__', '__str__', '__subclasshook__', '__thisclass__', '__weakref__', '_all_slots', '_ana_getliteral', '_ana_getstate', '_ana_setstate', '_ana_uuid', '_any_to_literal', '_condition_to_lambda', '_copy_paths', '_copy_stashes', '_executor', '_filter_paths', '_hierarchy', '_immutable', '_move', '_one_path_step', '_one_step', '_project', '_record_step_results', '_resilience', '_self_to_literal', '_step_veritesting', '_stored', '_successor', '_threads', '_veritesting', '_veritesting_options', 'active', 'ana_load', 'ana_store', 'ana_uuid', 'apply', 'call', 'copy', 'deadended', 'drop', 'errored', 'explore', 'make_uuid', 'merge', 'move', 'mp_active', 'mp_deadended', 'mp_errored', 'mp_pruned', 'mp_stashed', 'mp_unconstrained', 'mp_unsat', 'prune', 'pruned', 'save_unconstrained', 'save_unsat', 'split', 'stash', 'stash_addr', 'stash_addr_past', 'stash_all', 'stash_not_addr', 'stash_not_addr_past', 'stashed', 'stashes', 'step', 'to_literal', 'unconstrained', 'unsat', 'unstash', 'unstash_addr', 'unstash_addr_past', 'unstash_all', 'unstash_not_addr', 'unstash_not_addr_past']\n",
      "<PathGroup with 1 active>\n",
      "<PathGroup with 1 active>\n"
     ]
    }
   ],
   "source": [
    "pgp = p.factory.path_group(init, threads=8)\n",
    "x = pgp.step()\n",
    "print(dir(pgp))\n",
    "print(x)\n",
    "\n",
    "# while x.active[0].addr != 0x400faf:\n",
    "#     x = pgp.step()\n",
    "    \n",
    "# while x.active[0].addr != 0x400c65:\n",
    "#     x = pgp.step()\n",
    "#     print(hex(x.active[0].addr))\n",
    "\n",
    "print(x.unstash_all())"
   ]
  },
  {
   "cell_type": "code",
   "execution_count": null,
   "metadata": {
    "collapsed": false
   },
   "outputs": [],
   "source": [
    "# Now stuff becomes tricky\n",
    "x = pgp.explore(find=find, avoid=avoid)\n",
    "print(x.)\n",
    "print(x.active)"
   ]
  },
  {
   "cell_type": "code",
   "execution_count": null,
   "metadata": {
    "collapsed": false
   },
   "outputs": [],
   "source": [
    "for step in x.active[0].trace:\n",
    "    print(step)"
   ]
  }
 ],
 "metadata": {
  "kernelspec": {
   "display_name": "Python 2",
   "language": "python",
   "name": "python2"
  },
  "language_info": {
   "codemirror_mode": {
    "name": "ipython",
    "version": 2
   },
   "file_extension": ".py",
   "mimetype": "text/x-python",
   "name": "python",
   "nbconvert_exporter": "python",
   "pygments_lexer": "ipython2",
   "version": "2.7.11"
  }
 },
 "nbformat": 4,
 "nbformat_minor": 0
}
