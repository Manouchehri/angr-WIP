{
 "cells": [
  {
   "cell_type": "code",
   "execution_count": 1,
   "metadata": {
    "collapsed": true
   },
   "outputs": [],
   "source": [
    "import simuvex\n",
    "import angr"
   ]
  },
  {
   "cell_type": "code",
   "execution_count": 2,
   "metadata": {
    "collapsed": true
   },
   "outputs": [],
   "source": [
    "# PlaidCTF 2013 - mess\n",
    "# @author: P1kachu <p1kachu@lse.epita.fr>"
   ]
  },
  {
   "cell_type": "code",
   "execution_count": 3,
   "metadata": {
    "collapsed": false
   },
   "outputs": [],
   "source": [
    "path_types = [ \n",
    "    #'avoid',\n",
    "    'errored',\n",
    "    'deadended',\n",
    "    'found',\n",
    "    #'pruned',\n",
    "    'stashed',\n",
    "    'unconstrained',\n",
    "    'unsat'\n",
    "]\n",
    "def print_paths(ex, trace=False):\n",
    "    for p_type in path_types:\n",
    "        for path in getattr(ex, p_type):\n",
    "            print(\"\")\n",
    "            print(\"{0}: {1}\".format(p_type, path))\n",
    "            if p_type == 'errored':\n",
    "                print(\"Error: {0}\".format(path.error))\n",
    "            if trace:\n",
    "                for step in path.trace:\n",
    "                    print(step)\n",
    "    \n",
    "def get_addr(state):\n",
    "        global flag_addr\n",
    "        flag_addr = state.regs.eax\n",
    "        print(state.regs.eax)"
   ]
  },
  {
   "cell_type": "code",
   "execution_count": 4,
   "metadata": {
    "collapsed": true
   },
   "outputs": [],
   "source": [
    "BINARY = 'mess.bin'\n",
    "fail = (0x8048CC3, 0x8048CFF)\n",
    "win  = (0x8048dfe)\n",
    "main = 0x8048D10\n",
    "flag_addr = -1\n",
    "\n",
    "PASS_LEN = 29 # From 0x080487d8"
   ]
  },
  {
   "cell_type": "code",
   "execution_count": 5,
   "metadata": {
    "collapsed": false
   },
   "outputs": [],
   "source": [
    "p = angr.Project(BINARY)\n",
    "# p.hook(0x08048d10 + 0x82, func=get_length, length=3)\n",
    "p.hook(0x80487e7, func=get_addr, length=3)"
   ]
  },
  {
   "cell_type": "code",
   "execution_count": 6,
   "metadata": {
    "collapsed": false
   },
   "outputs": [],
   "source": [
    "init = p.factory.blank_state(addr=main)"
   ]
  },
  {
   "cell_type": "code",
   "execution_count": 7,
   "metadata": {
    "collapsed": false
   },
   "outputs": [],
   "source": [
    "pgp = p.factory.path_group(init)"
   ]
  },
  {
   "cell_type": "code",
   "execution_count": 8,
   "metadata": {
    "collapsed": false
   },
   "outputs": [
    {
     "name": "stdout",
     "output_type": "stream",
     "text": [
      "<SAO <BV32 0xc0000000>>\n",
      "<PathGroup with 114 pruned, 117 avoid, 1 active, 1 found>\n"
     ]
    }
   ],
   "source": [
    "ex = pgp.explore(find=win, avoid=fail)\n",
    "print(ex)"
   ]
  },
  {
   "cell_type": "code",
   "execution_count": 9,
   "metadata": {
    "collapsed": false
   },
   "outputs": [
    {
     "name": "stdout",
     "output_type": "stream",
     "text": [
      "Flag address: <SAO <BV32 0xc0000000>>\n"
     ]
    }
   ],
   "source": [
    "# print_paths(ex, trace=True)\n",
    "p = ex.found[0]\n",
    "print(\"Flag address: {0}\".format(flag_addr))"
   ]
  },
  {
   "cell_type": "code",
   "execution_count": 10,
   "metadata": {
    "collapsed": false
   },
   "outputs": [
    {
     "name": "stdout",
     "output_type": "stream",
     "text": [
      "<BV232 0x2a8604080100000002900408dc8c0408c38c0408#160 .. Reverse(mem_c0000000_703_232)[71:0]>\n"
     ]
    }
   ],
   "source": [
    "print(p.state.memory.load(flag_addr, PASS_LEN))"
   ]
  },
  {
   "cell_type": "code",
   "execution_count": null,
   "metadata": {
    "collapsed": true
   },
   "outputs": [],
   "source": []
  }
 ],
 "metadata": {
  "kernelspec": {
   "display_name": "Python 2",
   "language": "python",
   "name": "python2"
  },
  "language_info": {
   "codemirror_mode": {
    "name": "ipython",
    "version": 2
   },
   "file_extension": ".py",
   "mimetype": "text/x-python",
   "name": "python",
   "nbconvert_exporter": "python",
   "pygments_lexer": "ipython2",
   "version": "2.7.11"
  }
 },
 "nbformat": 4,
 "nbformat_minor": 0
}
