{
 "cells": [
  {
   "cell_type": "code",
   "execution_count": null,
   "metadata": {
    "collapsed": true
   },
   "outputs": [],
   "source": [
    "import simuvex\n",
    "import angr"
   ]
  },
  {
   "cell_type": "code",
   "execution_count": null,
   "metadata": {
    "collapsed": true
   },
   "outputs": [],
   "source": [
    "# Forbidden Bits CTF 2013 - smelf\n",
    "# @author: P1kachu <p1kachu@lse.epita.fr>"
   ]
  },
  {
   "cell_type": "code",
   "execution_count": null,
   "metadata": {
    "collapsed": true
   },
   "outputs": [],
   "source": [
    "fail = (0x400623, 0x4006b5)\n",
    "win  = (0x4006f0)\n",
    "main = 0x400601\n",
    "flag_addr = 0xd0000010\n",
    "PASS_LEN = 29"
   ]
  },
  {
   "cell_type": "code",
   "execution_count": null,
   "metadata": {
    "collapsed": false
   },
   "outputs": [],
   "source": [
    "p = angr.Project('smelf.bin')"
   ]
  },
  {
   "cell_type": "code",
   "execution_count": null,
   "metadata": {
    "collapsed": false
   },
   "outputs": [],
   "source": [
    "init = p.factory.blank_state(addr=main)\n",
    "argv=['smelf.bin', init.se.BVS('arg1', PASS_LEN * 8)]\n",
    "\n",
    "# for i in xrange(PASS_LEN):\n",
    "#     init.add_constraints(argv[1].get_byte(i) >= 0x20)\n",
    "#     init.add_constraints(argv[1].get_byte(i) <= 0x7f)\n",
    "# init.add_constraints(argv[1].get_byte(PASS_LEN) == 0)\n",
    "    \n",
    "init.memory.store(0xd0000000, argv[0])\n",
    "init.memory.store(flag_addr, argv[1])\n",
    "init.regs.rdi = 0xd0000010\n",
    "init.regs.rsi = 0xd0000000\n",
    "    \n",
    "def fast_strlen(state):\n",
    "    state.regs.rax = 29"
   ]
  },
  {
   "cell_type": "code",
   "execution_count": null,
   "metadata": {
    "collapsed": false
   },
   "outputs": [],
   "source": [
    "pgp = p.factory.path_group(init)\n",
    "p.hook(addr=0x400618, func=fast_strlen, length=5)\n",
    "p.hook(addr=0x4006e2, func=fast_strlen, length=5)"
   ]
  },
  {
   "cell_type": "code",
   "execution_count": null,
   "metadata": {
    "collapsed": false
   },
   "outputs": [],
   "source": [
    "ex = pgp.explore(find=win, avoid=fail)\n",
    "print(ex)"
   ]
  },
  {
   "cell_type": "code",
   "execution_count": null,
   "metadata": {
    "collapsed": false
   },
   "outputs": [],
   "source": [
    "state = ex.found[0].state\n",
    "\n",
    "# INVALID FLAG...\n",
    "# Writeup for this exercice can be found there:\n",
    "# https://scoding.de/forbiddenbits-ctf-2013-smelf\n",
    "print(state.se.any_str(state.memory.load(flag_addr, PASS_LEN)))"
   ]
  },
  {
   "cell_type": "code",
   "execution_count": null,
   "metadata": {
    "collapsed": true
   },
   "outputs": [],
   "source": []
  }
 ],
 "metadata": {
  "kernelspec": {
   "display_name": "Python 2",
   "language": "python",
   "name": "python2"
  },
  "language_info": {
   "codemirror_mode": {
    "name": "ipython",
    "version": 2
   },
   "file_extension": ".py",
   "mimetype": "text/x-python",
   "name": "python",
   "nbconvert_exporter": "python",
   "pygments_lexer": "ipython2",
   "version": "2.7.11"
  }
 },
 "nbformat": 4,
 "nbformat_minor": 0
}
