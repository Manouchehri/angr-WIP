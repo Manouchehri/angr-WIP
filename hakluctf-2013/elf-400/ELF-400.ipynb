{
 "cells": [
  {
   "cell_type": "code",
   "execution_count": 1,
   "metadata": {
    "collapsed": true
   },
   "outputs": [],
   "source": [
    "import simuvex\n",
    "import angr"
   ]
  },
  {
   "cell_type": "code",
   "execution_count": 2,
   "metadata": {
    "collapsed": true
   },
   "outputs": [],
   "source": [
    "# Hacklu 2013 - reverse_me\n",
    "# @author: P1kachu <p1kachu@lse.epita.fr>"
   ]
  },
  {
   "cell_type": "code",
   "execution_count": 3,
   "metadata": {
    "collapsed": false
   },
   "outputs": [],
   "source": [
    "path_types = [ \n",
    "    #'avoid',\n",
    "    'errored',\n",
    "    'deadended',\n",
    "    'found',\n",
    "    'pruned',\n",
    "    'stashed',\n",
    "    'unconstrained',\n",
    "    'unsat'\n",
    "]\n",
    "def print_paths(ex, trace=False):\n",
    "    for p_type in path_types:\n",
    "        for path in getattr(ex, p_type):\n",
    "            print(\"\")\n",
    "            print(\"{0}: {1}\".format(p_type, path))\n",
    "            if p_type == 'errored':\n",
    "                print(\"Error: {0}\".format(path.error))\n",
    "            if trace:\n",
    "                for step in path.trace:\n",
    "                    print(step)\n",
    "\n",
    "def i_am_clean(state):\n",
    "    # Bypass ptrace/ld_peload checks\n",
    "    print(\"I am clean at {0}\".format(state.regs.eip))\n",
    "    state.regs.eax = 0\n",
    "\n",
    "def unconstrained(state):\n",
    "    print(\"Hooked at {0}\".format(state.regs.eip))"
   ]
  },
  {
   "cell_type": "code",
   "execution_count": 4,
   "metadata": {
    "collapsed": true
   },
   "outputs": [],
   "source": [
    "BINARY = 'reverse_me.bin'\n",
    "fail = (0x08048e18, 0x08048711)\n",
    "win  = (0x08048e16)\n",
    "main = 0x080486f7\n",
    "flag_addr = 0xd0000010\n",
    "argv_addr = 0xd0000000\n",
    "\n",
    "# Need something symbolic, we don't have the length !\n",
    "PASS_LEN = 40\n",
    "\n",
    "# IDA Xrefs\n",
    "patch_me_rel = [0x2a, 0x2ed, 0xf7, 0x1e6, 0x3b8]\n",
    "patch_me_abs = [0x0804866a, 0x080486c0]\n",
    "patch_malloc = [0x66, 0x158, 0x216]\n",
    "patch_strlen = [0x5e, 0xaa, 0xe2, 0x150, 0x1d1, 0x20e, 0x258, 0x36a, 0x39f]"
   ]
  },
  {
   "cell_type": "code",
   "execution_count": 5,
   "metadata": {
    "collapsed": false
   },
   "outputs": [],
   "source": [
    "p = angr.Project(BINARY)\n",
    "    \n",
    "p.hook(main + 0xf, func=i_am_clean, length=5)"
   ]
  },
  {
   "cell_type": "code",
   "execution_count": 6,
   "metadata": {
    "collapsed": false
   },
   "outputs": [],
   "source": [
    "init = p.factory.blank_state(addr=main)\n",
    "argv=[BINARY, init.se.BVS('arg1', PASS_LEN * 8)]\n",
    "\n",
    "init.memory.store(argv_addr, argv[0])\n",
    "init.memory.store(flag_addr, argv[1])\n",
    "init.regs.edi = argv_addr \n",
    "init.regs.esi = 2 # argc"
   ]
  },
  {
   "cell_type": "code",
   "execution_count": 7,
   "metadata": {
    "collapsed": false
   },
   "outputs": [],
   "source": [
    "pgp = p.factory.path_group(init)"
   ]
  },
  {
   "cell_type": "code",
   "execution_count": 8,
   "metadata": {
    "collapsed": false
   },
   "outputs": [
    {
     "name": "stdout",
     "output_type": "stream",
     "text": [
      "I am clean at <SAO <BV32 0x8048706>>\n",
      "<PathGroup with 5 avoid, 1 found, 6 errored>\n"
     ]
    }
   ],
   "source": [
    "ex = pgp.explore(find=win, avoid=fail)\n",
    "print(ex)"
   ]
  },
  {
   "cell_type": "code",
   "execution_count": 9,
   "metadata": {
    "collapsed": false
   },
   "outputs": [
    {
     "name": "stdout",
     "output_type": "stream",
     "text": [
      "<Path with 1806 runs (at 0x8048e16)>\n"
     ]
    }
   ],
   "source": [
    "#print_paths(ex, trace=True)\n",
    "print(ex.found[0])"
   ]
  },
  {
   "cell_type": "code",
   "execution_count": 30,
   "metadata": {
    "collapsed": false
   },
   "outputs": [
    {
     "name": "stdout",
     "output_type": "stream",
     "text": [
      "None\n",
      "�\n",
      "�\n",
      "�\n",
      "�\n",
      "�\n",
      "�\n",
      "�\n",
      "�\n",
      "�\n",
      "�\n",
      "�\n",
      "�\n",
      "�\n",
      "�\n",
      "�\n",
      "�\n",
      "\n",
      "w\n",
      "o\n",
      "g\n",
      "_\n",
      "W\n",
      "O\n",
      "G\n",
      "?\n",
      "7\n",
      "/\n",
      "'\n",
      "\u001f\n",
      "\u0017\n",
      "\u000f\n",
      "\u0007\n"
     ]
    }
   ],
   "source": [
    "# tmp = ex.found[0].state.memory.load(argv_addr, 40 * 8)\n",
    "# print(tmp)\n",
    "s = ex.found[0].state\n",
    "print(s.simplify())\n",
    "for x in xrange(PASS_LEN):\n",
    "    x = ex.found[0].state.memory.load(flag_addr + x, 1)\n",
    "    if x.args[0] in xrange(0, 256):\n",
    "        print(chr(x.args[0]))"
   ]
  },
  {
   "cell_type": "code",
   "execution_count": null,
   "metadata": {
    "collapsed": true
   },
   "outputs": [],
   "source": []
  }
 ],
 "metadata": {
  "kernelspec": {
   "display_name": "Python 2",
   "language": "python",
   "name": "python2"
  },
  "language_info": {
   "codemirror_mode": {
    "name": "ipython",
    "version": 2
   },
   "file_extension": ".py",
   "mimetype": "text/x-python",
   "name": "python",
   "nbconvert_exporter": "python",
   "pygments_lexer": "ipython2",
   "version": "2.7.11"
  }
 },
 "nbformat": 4,
 "nbformat_minor": 0
}
