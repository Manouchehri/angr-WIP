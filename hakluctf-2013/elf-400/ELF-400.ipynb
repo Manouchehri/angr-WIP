{
 "cells": [
  {
   "cell_type": "code",
   "execution_count": 1,
   "metadata": {
    "collapsed": true
   },
   "outputs": [],
   "source": [
    "import simuvex\n",
    "import angr"
   ]
  },
  {
   "cell_type": "code",
   "execution_count": 2,
   "metadata": {
    "collapsed": true
   },
   "outputs": [],
   "source": [
    "# Hacklu 2013 - reverse_me\n",
    "# @author: P1kachu <p1kachu@lse.epita.fr>"
   ]
  },
  {
   "cell_type": "code",
   "execution_count": 3,
   "metadata": {
    "collapsed": false
   },
   "outputs": [],
   "source": [
    "path_types = [ \n",
    "    #'avoid',\n",
    "    'errored',\n",
    "    'deadended',\n",
    "    'found',\n",
    "    'pruned',\n",
    "    'stashed',\n",
    "    'unconstrained',\n",
    "    'unsat'\n",
    "]\n",
    "def print_paths(ex, trace=False):\n",
    "    for p_type in path_types:\n",
    "        for path in getattr(ex, p_type):\n",
    "            print(\"\")\n",
    "            print(\"{0}: {1}\".format(p_type, path))\n",
    "            if p_type == 'errored':\n",
    "                print(\"Error: {0}\".format(path.error))\n",
    "            if trace:\n",
    "                for step in path.trace:\n",
    "                    print(step)\n",
    "\n",
    "def i_am_clean(state):\n",
    "    # Bypass ptrace/ld_peload checks\n",
    "    print(\"I am clean at {0}\".format(state.regs.eip))\n",
    "    state.regs.eax = 0\n",
    "\n",
    "def unconstrained(state):\n",
    "    print(\"Hooked at {0}\".format(state.regs.eip))"
   ]
  },
  {
   "cell_type": "code",
   "execution_count": 4,
   "metadata": {
    "collapsed": true
   },
   "outputs": [],
   "source": [
    "BINARY = 'reverse_me.bin'\n",
    "fail = (0x08048e18, 0x08048711)\n",
    "win  = (0x08048e16)\n",
    "main = 0x080486f7\n",
    "flag_addr = 0xd0000010\n",
    "\n",
    "# Need something symbolic, we don't have the length !\n",
    "PASS_LEN = 40\n",
    "\n",
    "# IDA Xrefs\n",
    "patch_me_rel = [0x2a, 0x2ed, 0xf7, 0x1e6, 0x3b8]\n",
    "patch_me_abs = [0x0804866a, 0x080486c0]\n",
    "patch_malloc = [0x66, 0x158, 0x216]\n",
    "patch_strlen = [0x5e, 0xaa, 0xe2, 0x150, 0x1d1, 0x20e, 0x258, 0x36a, 0x39f]"
   ]
  },
  {
   "cell_type": "code",
   "execution_count": 5,
   "metadata": {
    "collapsed": false
   },
   "outputs": [],
   "source": [
    "p = angr.Project(BINARY)\n",
    "    \n",
    "p.hook(main + 0xf, func=i_am_clean, length=5)"
   ]
  },
  {
   "cell_type": "code",
   "execution_count": 6,
   "metadata": {
    "collapsed": false
   },
   "outputs": [],
   "source": [
    "init = p.factory.blank_state(addr=main)\n",
    "argv=[BINARY, init.se.BVS('arg1', PASS_LEN * 8)]\n",
    "\n",
    "init.memory.store(0xd0000000, argv[0])\n",
    "init.memory.store(flag_addr, argv[1])\n",
    "init.regs.edi = 0xd0000000 \n",
    "init.regs.esi = 2 # argc"
   ]
  },
  {
   "cell_type": "code",
   "execution_count": 7,
   "metadata": {
    "collapsed": false
   },
   "outputs": [],
   "source": [
    "pgp = p.factory.path_group(init)"
   ]
  },
  {
   "cell_type": "code",
   "execution_count": 8,
   "metadata": {
    "collapsed": false
   },
   "outputs": [
    {
     "name": "stdout",
     "output_type": "stream",
     "text": [
      "I am clean at <SAO <BV32 0x8048706>>\n",
      "<PathGroup with 5 avoid, 1 found, 6 errored>\n"
     ]
    }
   ],
   "source": [
    "ex = pgp.explore(find=win, avoid=fail)\n",
    "print(ex)"
   ]
  },
  {
   "cell_type": "code",
   "execution_count": 9,
   "metadata": {
    "collapsed": false
   },
   "outputs": [
    {
     "name": "stdout",
     "output_type": "stream",
     "text": [
      "<Path with 1806 runs (at 0x8048e16)>\n"
     ]
    }
   ],
   "source": [
    "#print_paths(ex, trace=True)\n",
    "print(ex.found[0])"
   ]
  },
  {
   "cell_type": "code",
   "execution_count": 10,
   "metadata": {
    "collapsed": false
   },
   "outputs": [
    {
     "name": "stdout",
     "output_type": "stream",
     "text": [
      "<BV64 arg1_0_320[319:256]>\n",
      "<BV64 arg1_0_320[311:248]>\n",
      "<BV64 arg1_0_320[303:240]>\n",
      "<BV64 arg1_0_320[295:232]>\n",
      "<BV64 arg1_0_320[287:224]>\n",
      "<BV64 arg1_0_320[279:216]>\n",
      "<BV64 arg1_0_320[271:208]>\n",
      "<BV64 arg1_0_320[263:200]>\n",
      "<BV64 arg1_0_320[255:192]>\n",
      "<BV64 arg1_0_320[247:184]>\n",
      "<BV64 arg1_0_320[239:176]>\n",
      "<BV64 arg1_0_320[231:168]>\n",
      "<BV64 arg1_0_320[223:160]>\n",
      "<BV64 arg1_0_320[215:152]>\n",
      "<BV64 arg1_0_320[207:144]>\n",
      "<BV64 arg1_0_320[199:136]>\n",
      "<BV64 arg1_0_320[191:128]>\n",
      "<BV64 arg1_0_320[183:120]>\n",
      "<BV64 arg1_0_320[175:112]>\n",
      "<BV64 arg1_0_320[167:104]>\n",
      "<BV64 arg1_0_320[159:96]>\n",
      "<BV64 arg1_0_320[151:88]>\n",
      "<BV64 arg1_0_320[143:80]>\n",
      "<BV64 arg1_0_320[135:72]>\n",
      "<BV64 arg1_0_320[127:64]>\n",
      "<BV64 arg1_0_320[119:56]>\n",
      "<BV64 arg1_0_320[111:48]>\n",
      "<BV64 arg1_0_320[103:40]>\n",
      "<BV64 arg1_0_320[95:32]>\n",
      "<BV64 arg1_0_320[87:24]>\n",
      "<BV64 arg1_0_320[79:16]>\n",
      "<BV64 arg1_0_320[71:8]>\n",
      "<BV64 arg1_0_320[63:0]>\n",
      "<BV64 arg1_0_320[55:0] .. mem_d0000031_35_64[63:56]>\n",
      "<BV64 arg1_0_320[47:0] .. mem_d0000031_35_64[63:56] .. mem_d0000032_36_64[63:56]>\n",
      "<BV64 arg1_0_320[39:0] .. mem_d0000031_35_64[63:56] .. mem_d0000032_36_64[63:56] .. mem_d0000033_37_64[63:56]>\n",
      "<BV64 arg1_0_320[31:0] .. mem_d0000031_35_64[63:56] .. mem_d0000032_36_64[63:56] .. mem_d0000033_37_64[63:56] .. mem_d0000034_38_64[63:56]>\n",
      "<BV64 arg1_0_320[23:0] .. mem_d0000031_35_64[63:56] .. mem_d0000032_36_64[63:56] .. mem_d0000033_37_64[63:56] .. mem_d0000034_38_64[63:56] .. mem_d0000035_39_64[63:56]>\n",
      "<BV64 arg1_0_320[15:0] .. mem_d0000031_35_64[63:56] .. mem_d0000032_36_64[63:56] .. mem_d0000033_37_64[63:56] .. mem_d0000034_38_64[63:56] .. mem_d0000035_39_64[63:56] .. mem_d0000036_40_64[63:56]>\n",
      "<BV64 arg1_0_320[7:0] .. mem_d0000031_35_64[63:56] .. mem_d0000032_36_64[63:56] .. mem_d0000033_37_64[63:56] .. mem_d0000034_38_64[63:56] .. mem_d0000035_39_64[63:56] .. mem_d0000036_40_64[63:56] .. mem_d0000037_41_64[63:56]>\n"
     ]
    }
   ],
   "source": [
    "# tmp = ex.found[0].state.memory.load(flag_addr, 40 * 8)\n",
    "# print(tmp)\n",
    "\n",
    "for x in xrange(PASS_LEN):\n",
    "    print(ex.found[0].state.memory.load(flag_addr + x, 8))"
   ]
  },
  {
   "cell_type": "code",
   "execution_count": null,
   "metadata": {
    "collapsed": true
   },
   "outputs": [],
   "source": []
  }
 ],
 "metadata": {
  "kernelspec": {
   "display_name": "Python 2",
   "language": "python",
   "name": "python2"
  },
  "language_info": {
   "codemirror_mode": {
    "name": "ipython",
    "version": 2
   },
   "file_extension": ".py",
   "mimetype": "text/x-python",
   "name": "python",
   "nbconvert_exporter": "python",
   "pygments_lexer": "ipython2",
   "version": "2.7.11"
  }
 },
 "nbformat": 4,
 "nbformat_minor": 0
}
