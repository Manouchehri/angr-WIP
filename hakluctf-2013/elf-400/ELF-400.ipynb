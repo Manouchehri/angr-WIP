{
 "cells": [
  {
   "cell_type": "code",
   "execution_count": 1,
   "metadata": {
    "collapsed": true
   },
   "outputs": [],
   "source": [
    "import simuvex\n",
    "import angr"
   ]
  },
  {
   "cell_type": "code",
   "execution_count": 2,
   "metadata": {
    "collapsed": true
   },
   "outputs": [],
   "source": [
    "# Hacklu 2013 - reverse_me\n",
    "# @author: P1kachu <p1kachu@lse.epita.fr>"
   ]
  },
  {
   "cell_type": "code",
   "execution_count": 3,
   "metadata": {
    "collapsed": false
   },
   "outputs": [],
   "source": [
    "path_types = [ \n",
    "    'avoid',\n",
    "    'errored',\n",
    "    'pruned',\n",
    "    'stashed',\n",
    "    'unconstrained',\n",
    "    'unsat'\n",
    "]\n",
    "def print_paths(ex, trace=False):\n",
    "    for p_type in path_types:\n",
    "        for path in getattr(ex, p_type):\n",
    "            print(\"\")\n",
    "            print(path)\n",
    "            if p_type == 'errored':\n",
    "                print(path.error)\n",
    "            if trace:\n",
    "                for step in path.trace:\n",
    "                    print(step)\n",
    "\n",
    "def i_am_clean(state):\n",
    "    print(\"I am clean at {0}\".format(state.regs.eip))\n",
    "    state.regs.eax = 0\n",
    "\n",
    "def return_first_arg(state):\n",
    "    print(\"Hooked at {0}\".format(state.regs.eip))\n",
    "    state.regs.eax = state.memory.load(state.regs.esp, 8)"
   ]
  },
  {
   "cell_type": "code",
   "execution_count": 4,
   "metadata": {
    "collapsed": true
   },
   "outputs": [],
   "source": [
    "BINARY = 'reverse_me.bin'\n",
    "fail = (0x08048e18, 0x08048711)\n",
    "win  = (0x08048e0a)\n",
    "main = 0x080486f7\n",
    "flag_addr = 0xd0000010\n",
    "\n",
    "# Need something symbolic, we don't have the length !\n",
    "PASS_LEN = 20\n",
    "\n",
    "# IDA Xrefs\n",
    "patch_me_rel = [0x2a, 0x2ed, 0x42, 0x103, 0x16b, 0x1f2, 0x3c4, 0x71a, 0x728, 0xf7, 0x1e6, 0x3b8]\n",
    "patch_me_abs = [0x0804866a, 0x080486c0]\n",
    "patch_malloc = [0x66, 0x158, 0x216]\n",
    "patch_strlen = [0x5e, 0xaa, 0xe2, 0x150, 0x1d1, 0x20e, 0x258, 0x36a, 0x39f]"
   ]
  },
  {
   "cell_type": "code",
   "execution_count": 5,
   "metadata": {
    "collapsed": false
   },
   "outputs": [],
   "source": [
    "p = angr.Project(BINARY)\n",
    "\n",
    "# Sleeps\n",
    "for x in patch_me_abs:\n",
    "    p.hook(x, func=return_first_arg, length=5)\n",
    "\n",
    "# Sleeps, puts, printfs\n",
    "for x in patch_me_rel:\n",
    "    p.hook(main + x, func=return_first_arg, length=5)\n",
    "    \n",
    "for x in patch_malloc:\n",
    "    p.hook(main + x, simuvex.SimProcedures['libc.so.6']['malloc'])\n",
    "    \n",
    "for x in patch_strlen:\n",
    "    p.hook(main + x, simuvex.SimProcedures['libc.so.6']['strlen'])\n",
    "    \n",
    "p.hook(main + 0xf, func=i_am_clean, length=5)"
   ]
  },
  {
   "cell_type": "code",
   "execution_count": 6,
   "metadata": {
    "collapsed": false
   },
   "outputs": [],
   "source": [
    "init = p.factory.blank_state(addr=main)\n",
    "argv=[BINARY, init.se.BVS('arg1', PASS_LEN * 8)]\n",
    "\n",
    "init.memory.store(0xd0000000, argv[0])\n",
    "init.memory.store(flag_addr, argv[1])\n",
    "init.regs.edi = 0xd0000000 \n",
    "init.regs.esi = 2 # argc"
   ]
  },
  {
   "cell_type": "code",
   "execution_count": 7,
   "metadata": {
    "collapsed": false
   },
   "outputs": [],
   "source": [
    "pgp = p.factory.path_group(init)"
   ]
  },
  {
   "cell_type": "code",
   "execution_count": 8,
   "metadata": {
    "collapsed": false
   },
   "outputs": [
    {
     "name": "stdout",
     "output_type": "stream",
     "text": [
      "I am clean at <SAO <BV32 0x8048706>>\n",
      "Hooked at <SAO <BV32 0x8048739>>\n",
      "<PathGroup with 1 deadended, 1 avoid>\n"
     ]
    }
   ],
   "source": [
    "ex = pgp.explore(find=win, avoid=fail)\n",
    "print(ex)"
   ]
  },
  {
   "cell_type": "code",
   "execution_count": 9,
   "metadata": {
    "collapsed": false
   },
   "outputs": [
    {
     "name": "stdout",
     "output_type": "stream",
     "text": [
      "\n",
      "<Path with 3 runs (at 0x8048711)>\n",
      "<SimIRSB 0x80486f7>\n",
      "<SimProcedure UserHook>\n",
      "<SimIRSB 0x804870b>\n"
     ]
    }
   ],
   "source": [
    "print_paths(ex, trace=True)"
   ]
  }
 ],
 "metadata": {
  "kernelspec": {
   "display_name": "Python 2",
   "language": "python",
   "name": "python2"
  },
  "language_info": {
   "codemirror_mode": {
    "name": "ipython",
    "version": 2
   },
   "file_extension": ".py",
   "mimetype": "text/x-python",
   "name": "python",
   "nbconvert_exporter": "python",
   "pygments_lexer": "ipython2",
   "version": "2.7.11"
  }
 },
 "nbformat": 4,
 "nbformat_minor": 0
}
