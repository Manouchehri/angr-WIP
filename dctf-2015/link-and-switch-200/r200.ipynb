{
 "cells": [
  {
   "cell_type": "code",
   "execution_count": null,
   "metadata": {
    "collapsed": false
   },
   "outputs": [],
   "source": [
    "import angr\n",
    "import re\n",
    "# DCTF - r200\n",
    "# @author: P1kachu"
   ]
  },
  {
   "cell_type": "code",
   "execution_count": null,
   "metadata": {
    "collapsed": false
   },
   "outputs": [],
   "source": [
    "fail = (0x400947, 0x400958)\n",
    "win  = (0x400936,)\n",
    "main = 0x400886\n",
    "\n",
    "# GDB infos\n",
    "# stack_begin = 0x7ffffffde000\n",
    "# stack_end   = 0x7ffffffff000\n",
    "# heap_begin  = 0x602000\n",
    "# heap_end    = 0x623000\n",
    "# breakpoint  = 0x400909\n",
    "\n",
    "path_types = [ \n",
    "    'avoid',\n",
    "    'errored',\n",
    "    'deadended',\n",
    "    'found',\n",
    "    #'pruned',\n",
    "    'stashed',\n",
    "    'unconstrained',\n",
    "    'unsat'\n",
    "]\n",
    "\n",
    "def get_length(state):\n",
    "    global flag_addr\n",
    "    flag_addr = state.regs.rax\n",
    "    print(flag_addr)\n",
    "    state.regs.rsi = 8\n",
    "    \n",
    "def print_paths(ex, trace=False):\n",
    "    for p_type in path_types:\n",
    "        for path in getattr(ex, p_type):\n",
    "            print(\"\")\n",
    "            print(\"{0}: {1}\".format(p_type, path))\n",
    "            if p_type == 'errored':\n",
    "                print(\"Error: {0}\".format(path.error))\n",
    "            if trace:\n",
    "                for step in path.trace:\n",
    "                    print(step)\n",
    "            \n",
    "def parse_regs(regs_dump):\n",
    "    reg = re.compile(r'[\\S]*')\n",
    "    val = re.compile(r'0x[\\w]*')\n",
    "    registers = {}\n",
    "    with open(regs_dump, 'r') as f:\n",
    "        lines = f.readlines()\n",
    "        for line in lines:\n",
    "            r = reg.match(line)\n",
    "            v = val.search(line)\n",
    "            registers[r.group()] = int(v.group(), 16)\n",
    "    return registers\n",
    "\n",
    "def check_regs(registers, state):\n",
    "    for x, y in registers.iteritems():\n",
    "        try:\n",
    "            r = getattr(state.regs, x)\n",
    "        except Exception as e:\n",
    "            # Some registers such as cs, ds, eflags etc. aren't supported in Angr\n",
    "            # https://github.com/angr/simuvex/blob/master/simuvex/plugins/gdb.py#L97\n",
    "            continue\n",
    "        assert r.args[0] == y, \"{0} don't match ({1}, {2})\".format(x, r.args[0], y)\n",
    "    print('Registers OK')"
   ]
  },
  {
   "cell_type": "code",
   "execution_count": null,
   "metadata": {
    "collapsed": false
   },
   "outputs": [],
   "source": [
    "p = angr.Project('r200.bin')\n",
    "# p.hook(0x400914, func=get_length, length=5)"
   ]
  },
  {
   "cell_type": "code",
   "execution_count": null,
   "metadata": {
    "collapsed": false
   },
   "outputs": [],
   "source": [
    "init = p.factory.blank_state(addr=main)\n",
    "\n",
    "regs = 'assets/regs'\n",
    "stack = 'assets/stack'\n",
    "heap = 'assets/heap'\n",
    "\n",
    "init.gdb.set_stack(stack, stack_top=0x7ffffffde000)\n",
    "init.gdb.set_heap(heap, heap_base=0x602000)\n",
    "init.gdb.set_regs(regs)\n",
    "\n",
    "check_regs(parse_regs(regs), init)"
   ]
  },
  {
   "cell_type": "code",
   "execution_count": null,
   "metadata": {
    "collapsed": false
   },
   "outputs": [],
   "source": [
    "pgp = p.factory.path_group(init, threads=8)"
   ]
  },
  {
   "cell_type": "code",
   "execution_count": null,
   "metadata": {
    "collapsed": false
   },
   "outputs": [],
   "source": [
    "ex = pgp.explore(find=win, avoid=fail)\n",
    "print_paths(ex, trace=True)\n",
    "print(ex)"
   ]
  },
  {
   "cell_type": "code",
   "execution_count": null,
   "metadata": {
    "collapsed": true
   },
   "outputs": [],
   "source": []
  }
 ],
 "metadata": {
  "kernelspec": {
   "display_name": "Python 2",
   "language": "python",
   "name": "python2"
  },
  "language_info": {
   "codemirror_mode": {
    "name": "ipython",
    "version": 2
   },
   "file_extension": ".py",
   "mimetype": "text/x-python",
   "name": "python",
   "nbconvert_exporter": "python",
   "pygments_lexer": "ipython2",
   "version": "2.7.11"
  }
 },
 "nbformat": 4,
 "nbformat_minor": 0
}
