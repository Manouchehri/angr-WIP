{
 "cells": [
  {
   "cell_type": "code",
   "execution_count": null,
   "metadata": {
    "collapsed": true
   },
   "outputs": [],
   "source": [
    "import angr"
   ]
  },
  {
   "cell_type": "code",
   "execution_count": null,
   "metadata": {
    "collapsed": true
   },
   "outputs": [],
   "source": [
    "fail = (0x400947, 0x400958)\n",
    "win  = (0x400936,)\n",
    "main = 0x400886\n",
    "\n",
    "# GDB infos\n",
    "# stack_begin = 0x7ffffffde000\n",
    "# stack_end   = 0x7ffffffff000\n",
    "# heap_begin  = 0x602000\n",
    "# heap_end    = 0x623000\n",
    "# breakpoint  = 0x400909\n",
    "\n",
    "def patch_fgets(state):\n",
    "    addr = state.regs.rsi.args[0]\n",
    "    length = state.regs.rdi.args[0]\n",
    "    print(\"{0} bytes read at {1}\".format(addr, hex(length)))\n",
    "    for x in xrange(length):\n",
    "        state.mem[addr + x:] = state.se.BVS('c', 8)\n"
   ]
  },
  {
   "cell_type": "code",
   "execution_count": null,
   "metadata": {
    "collapsed": false
   },
   "outputs": [],
   "source": [
    "p = angr.Project('r200.bin')\n",
    "p.hook(0x40091c, func=patch_fgets, length=5)"
   ]
  },
  {
   "cell_type": "code",
   "execution_count": null,
   "metadata": {
    "collapsed": false
   },
   "outputs": [],
   "source": [
    "init = p.factory.blank_state()\n",
    "\n",
    "init.gdb.set_stack('assets/stack', stack_top=0x7ffffffde000)\n",
    "print(\"Stack set\")\n",
    "\n",
    "init.gdb.set_heap('assets/heap', heap_base=0x602000)\n",
    "print(\"Heap set\") \n",
    "\n",
    "# https://github.com/angr/simuvex/blob/efa097d4076401cbd48277223e1340d7c6dffbc1/simuvex/plugins/gdb.py#L97\n",
    "# Some registers such as cs, ds, eflags etc. aren't supported in Angr\n",
    "init.gdb.set_regs('assets/regs')\n",
    "print(\"Registers set\")\n"
   ]
  },
  {
   "cell_type": "code",
   "execution_count": null,
   "metadata": {
    "collapsed": false
   },
   "outputs": [],
   "source": [
    "pgp = p.factory.path_group(init, threads=8)"
   ]
  },
  {
   "cell_type": "code",
   "execution_count": null,
   "metadata": {
    "collapsed": false
   },
   "outputs": [],
   "source": [
    "ex = pgp.explore(find=win, avoid=fail)\n",
    "\n",
    "print(ex)"
   ]
  }
 ],
 "metadata": {
  "kernelspec": {
   "display_name": "Python 2",
   "language": "python",
   "name": "python2"
  },
  "language_info": {
   "codemirror_mode": {
    "name": "ipython",
    "version": 2
   },
   "file_extension": ".py",
   "mimetype": "text/x-python",
   "name": "python",
   "nbconvert_exporter": "python",
   "pygments_lexer": "ipython2",
   "version": "2.7.11"
  }
 },
 "nbformat": 4,
 "nbformat_minor": 0
}
